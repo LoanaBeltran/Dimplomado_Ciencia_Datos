{
 "cells": [
  {
   "cell_type": "markdown",
   "id": "14865c41",
   "metadata": {},
   "source": [
    " <figure>\n",
    " <img src=\"https://1000marcas.net/wp-content/uploads/2020/11/Python-logo.png\" width=\"200\" height=\"200\" align=\"center\" /> \n",
    " </figure>"
   ]
  },
  {
   "cell_type": "markdown",
   "id": "74840451",
   "metadata": {},
   "source": [
    "# <span style=\"color:#F72585\"><center>Iris</center></span>\n",
    "## <span style=\"color:#F72585\"><center>Clase 2</center></span>"
   ]
  },
  {
   "cell_type": "markdown",
   "id": "a0003ae2",
   "metadata": {},
   "source": [
    "1. Consiga el conjunto de datos iris.csv. En el repositorio de Aprendizaje Profundo encuentra alguna versión."
   ]
  },
  {
   "cell_type": "code",
   "execution_count": 1,
   "id": "9b560efb",
   "metadata": {},
   "outputs": [
    {
     "name": "stdout",
     "output_type": "stream",
     "text": [
      "   Id  SepalLengthCm  SepalWidthCm  PetalLengthCm  PetalWidthCm      Species\n",
      "0   1            5.1           3.5            1.4           0.2  Iris-setosa\n",
      "1   2            4.9           3.0            1.4           0.2  Iris-setosa\n",
      "2   3            4.7           3.2            1.3           0.2  Iris-setosa\n",
      "3   4            4.6           3.1            1.5           0.2  Iris-setosa\n",
      "4   5            5.0           3.6            1.4           0.2  Iris-setosa\n"
     ]
    }
   ],
   "source": [
    "import pandas as pd\n",
    "\n",
    "url = 'https://raw.githubusercontent.com/AprendizajeProfundo/diplomado-ciencia-de-datos/5981db8517f000b55dff8f13319a1108495774a0/Aprendizaje_supervisado/Datos/Iris.csv'\n",
    "df = pd.read_csv(url)\n",
    "\n",
    "print(df.head()) # muestra las primeras filas del DataFrame"
   ]
  },
  {
   "cell_type": "markdown",
   "id": "8e6609e0",
   "metadata": {},
   "source": [
    "3. Escriba una clase con las siguientes funcionalidades:\n",
    " 1. Al instanciar un objeto, lee un conjunto de datos numéricos. Por ejemplo puede usar el mismo conjunto de datos iris.csv. Instancie los datos en un dataframe de Pandas\n",
    " 2. Implemente un método que calcule las estadísticas descriptivas básicas de cada una de las variables.\n",
    " 3. Implemente un método que entregue los nombre de las variables disponibles.\n",
    " 3. Implemente un método que reciba el nombre de una variable disponible dentro del objeto ( en el  dataframe) y regrese: sus estadísticas básicas:  media, mediana, desviación, percentiles q25, q50, q75 y dibuje un histograma de la distribución de la variable."
   ]
  },
  {
   "cell_type": "code",
   "execution_count": 2,
   "id": "f3b429b2",
   "metadata": {},
   "outputs": [],
   "source": [
    "import matplotlib.pyplot as plt\n",
    "\n",
    "class DataAnalyzer:\n",
    "    def __init__(self, data_file):\n",
    "        self.df = pd.read_csv(data_file)\n",
    "    \n",
    "    def calculate_stats(self):\n",
    "        return self.df.describe()\n",
    "    \n",
    "    def get_variable_names(self):\n",
    "        return list(self.df.columns)\n",
    "    \n",
    "    def analyze_variable(self, var_name):\n",
    "        if var_name not in self.df.columns:\n",
    "            return \"La variable especificada no está disponible en los datos.\"\n",
    "        var_data = self.df[var_name]\n",
    "        stats = var_data.describe()\n",
    "        print(\"Estadísticas básicas para la variable {}:\".format(var_name))\n",
    "        print(stats)\n",
    "        plt.hist(var_data)\n",
    "        plt.xlabel(var_name)\n",
    "        plt.ylabel(\"Frecuencia\")\n",
    "        plt.show()\n"
   ]
  },
  {
   "cell_type": "code",
   "execution_count": 3,
   "id": "dd30aae4",
   "metadata": {},
   "outputs": [
    {
     "name": "stdout",
     "output_type": "stream",
     "text": [
      "Nombres de las variables disponibles:  ['Id', 'SepalLengthCm', 'SepalWidthCm', 'PetalLengthCm', 'PetalWidthCm', 'Species']\n"
     ]
    }
   ],
   "source": [
    "analyzer = DataAnalyzer(url)\n",
    "print(\"Nombres de las variables disponibles: \", analyzer.get_variable_names())"
   ]
  },
  {
   "cell_type": "code",
   "execution_count": 4,
   "id": "143550d9",
   "metadata": {},
   "outputs": [
    {
     "name": "stdout",
     "output_type": "stream",
     "text": [
      "Estadísticas básicas para la variable SepalLengthCm:\n",
      "count    150.000000\n",
      "mean       5.843333\n",
      "std        0.828066\n",
      "min        4.300000\n",
      "25%        5.100000\n",
      "50%        5.800000\n",
      "75%        6.400000\n",
      "max        7.900000\n",
      "Name: SepalLengthCm, dtype: float64\n"
     ]
    },
    {
     "data": {
      "image/png": "[encoded data removed]",
      "text/plain": [
       "<Figure size 432x288 with 1 Axes>"
      ]
     },
     "metadata": {
      "needs_background": "light"
     },
     "output_type": "display_data"
    }
   ],
   "source": [
    "analyzer.analyze_variable('SepalLengthCm')"
   ]
  },
  {
   "cell_type": "code",
   "execution_count": 5,
   "id": "2c328107",
   "metadata": {},
   "outputs": [
    {
     "data": {
      "text/plain": [
       "'La variable especificada no está disponible en los datos.'"
      ]
     },
     "execution_count": 5,
     "metadata": {},
     "output_type": "execute_result"
    }
   ],
   "source": [
    "analyzer.analyze_variable('sepal_color')"
   ]
  },
  {
   "cell_type": "code",
   "execution_count": null,
   "id": "bfdeb33c",
   "metadata": {},
   "outputs": [],
   "source": []
  }
 ],
 "metadata": {
  "kernelspec": {
   "display_name": "Python 3",
   "language": "python",
   "name": "python3"
  },
  "language_info": {
   "codemirror_mode": {
    "name": "ipython",
    "version": 3
   },
   "file_extension": ".py",
   "mimetype": "text/x-python",
   "name": "python",
   "nbconvert_exporter": "python",
   "pygments_lexer": "ipython3",
   "version": "3.8.8"
  }
 },
 "nbformat": 4,
 "nbformat_minor": 5
}
