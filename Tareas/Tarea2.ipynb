{
 "cells": [
  {
   "cell_type": "markdown",
   "id": "a82dc07d",
   "metadata": {},
   "source": [
    " <figure>\n",
    " <img src=\"https://1000marcas.net/wp-content/uploads/2020/11/Python-logo.png\" width=\"200\" height=\"200\" align=\"center\" /> \n",
    " </figure>"
   ]
  },
  {
   "cell_type": "markdown",
   "id": "b5ed8808",
   "metadata": {},
   "source": [
    "# <span style=\"color:#F72585\"><center>Funciones</center></span>"
   ]
  },
  {
   "cell_type": "markdown",
   "id": "7051a9a1",
   "metadata": {},
   "source": [
    "1. Escriba una función  que reciba la fecha de nacimiento de un a persona y calcule la edad de la persona."
   ]
  },
  {
   "cell_type": "code",
   "execution_count": 1,
   "id": "cd6c8537",
   "metadata": {},
   "outputs": [],
   "source": [
    "from datetime import date\n",
    "\n",
    "def f_edad(fecha_nacimiento):\n",
    "    hoy = date.today()\n",
    "    edad = hoy.year - fecha_nacimiento.year - ((hoy.month, hoy.day) < (fecha_nacimiento.month, fecha_nacimiento.day))\n",
    "    return edad"
   ]
  },
  {
   "cell_type": "code",
   "execution_count": 2,
   "id": "9bf98a29",
   "metadata": {},
   "outputs": [
    {
     "name": "stdout",
     "output_type": "stream",
     "text": [
      "La edad es: 22\n"
     ]
    }
   ],
   "source": [
    "mi_fecha = date(2000, 10, 15)\n",
    "mi_edad = f_edad(mi_fecha)\n",
    "print(\"La edad es:\", mi_edad)"
   ]
  },
  {
   "cell_type": "markdown",
   "id": "5ecd7693",
   "metadata": {},
   "source": [
    "2. Crea una función EscribirCentrado, que reciba como parámetro un texto y lo escriba centrado en pantalla (suponiendo una anchura de 80 columnas; pista: deberás escribir 40 - longitud/2 espacios antes del texto).  "
   ]
  },
  {
   "cell_type": "code",
   "execution_count": 3,
   "id": "fcf3c306",
   "metadata": {},
   "outputs": [],
   "source": [
    "def EscribirCentrado(texto):\n",
    "    col = 40 - len(texto) // 2\n",
    "    print(\" \" * col + texto)"
   ]
  },
  {
   "cell_type": "code",
   "execution_count": 4,
   "id": "4cd92516",
   "metadata": {},
   "outputs": [
    {
     "name": "stdout",
     "output_type": "stream",
     "text": [
      "                     Este es el ejemplo de un texto centrado\n"
     ]
    }
   ],
   "source": [
    "EscribirCentrado(\"Este es el ejemplo de un texto centrado\")"
   ]
  },
  {
   "cell_type": "markdown",
   "id": "cca9b816",
   "metadata": {},
   "source": [
    "3. Construya una función decorada que reciba un texto y lo escriba marcado con Markdown en itálica y resaltada (bold). Revise la lección de decoradores, no vista en clase."
   ]
  },
  {
   "cell_type": "code",
   "execution_count": 5,
   "id": "29c29ed6",
   "metadata": {},
   "outputs": [],
   "source": [
    "def bold_italic_text(func):\n",
    "    def wrapper(*args, **kwargs):\n",
    "        result = func(*args, **kwargs)\n",
    "        return \"***_\" + result + \"_***\"\n",
    "    return wrapper\n",
    "\n",
    "@bold_italic_text\n",
    "def print_text(texto):\n",
    "    return texto"
   ]
  },
  {
   "cell_type": "code",
   "execution_count": 6,
   "id": "4ca05957",
   "metadata": {},
   "outputs": [
    {
     "name": "stdout",
     "output_type": "stream",
     "text": [
      "***_Este es el ejemplo para un texto en markdown en itálica y resaltada_***\n"
     ]
    }
   ],
   "source": [
    "texto = \"Este es el ejemplo para un texto en markdown en itálica y resaltada\"\n",
    "print(print_text(texto))\n"
   ]
  },
  {
   "cell_type": "markdown",
   "id": "9f6871e1",
   "metadata": {},
   "source": [
    "***_Este es el ejemplo para un texto en markdown en itálica y resaltada_***"
   ]
  },
  {
   "cell_type": "markdown",
   "id": "cc7a337f",
   "metadata": {},
   "source": [
    "4.  Crea un programa que pida dos número enteros al usuario y diga si alguno de ellos es múltiplo del otro. "
   ]
  },
  {
   "cell_type": "code",
   "execution_count": 7,
   "id": "fbed3a1a",
   "metadata": {},
   "outputs": [
    {
     "name": "stdout",
     "output_type": "stream",
     "text": [
      "Introduce dos números enteros:\n",
      "Primer número: 3\n",
      "Segundo número: 7\n",
      "Ninguno de los números es múltiplo del otro.\n"
     ]
    }
   ],
   "source": [
    "print(\"Introduce dos números enteros:\")\n",
    "num1 = int(input(\"Primer número: \"))\n",
    "num2 = int(input(\"Segundo número: \"))\n",
    "\n",
    "if num1 % num2 == 0:\n",
    "    print(num1, \"es múltiplo de\", num2)\n",
    "elif num2 % num1 == 0:\n",
    "    print(num2, \"es múltiplo de\", num1)\n",
    "else:\n",
    "    print(\"Ninguno de los números es múltiplo del otro.\")\n"
   ]
  },
  {
   "cell_type": "markdown",
   "id": "e0de49b9",
   "metadata": {},
   "source": [
    "5. Crear una función re reciba una lista  de 24 valores de temperatura leída  hora en un día y que calcule la temperatura media  Cree una lista con 24 valores de temperatura de un día de Bogotá y pruebe su función. Invente los datos."
   ]
  },
  {
   "cell_type": "code",
   "execution_count": 8,
   "id": "a53299a3",
   "metadata": {},
   "outputs": [],
   "source": [
    "def temperatura_media(temperaturas):\n",
    "    return sum(temperaturas) / len(temperaturas)"
   ]
  },
  {
   "cell_type": "code",
   "execution_count": 9,
   "id": "e73eff2b",
   "metadata": {},
   "outputs": [
    {
     "name": "stdout",
     "output_type": "stream",
     "text": [
      "La temperatura media en Bogotá es: 18.208333333333332 °C\n"
     ]
    }
   ],
   "source": [
    "temperaturas_bogota = [15,17,14,19,20,21,21,22,21,23,24,24,\n",
    "                       18,19,17,15,16,14,15,16,17,17,16,16]\n",
    "\n",
    "print(\"La temperatura media en Bogotá es:\", temperatura_media(temperaturas_bogota), \"°C\")"
   ]
  },
  {
   "cell_type": "markdown",
   "id": "4d5b3fc4",
   "metadata": {},
   "source": [
    "5. Crea un función “ConvertirEspaciado”, que reciba como parámetro un texto y devuelve una cadena con un espacio adicional tras cada letra. Por ejemplo, “Hola, tú” devolverá “H o l a , t ú “.  Pruebe "
   ]
  },
  {
   "cell_type": "code",
   "execution_count": 10,
   "id": "0f6f68f4",
   "metadata": {},
   "outputs": [
    {
     "data": {
      "text/plain": [
       "'H o l a , t ú '"
      ]
     },
     "execution_count": 10,
     "metadata": {},
     "output_type": "execute_result"
    }
   ],
   "source": [
    "def ConvertirEspaciado(texto):\n",
    "    resultado = \"\"\n",
    "    for letra in texto:\n",
    "        if(letra != \" \"):\n",
    "            resultado += letra + \" \"\n",
    "    return resultado\n",
    "\n",
    "#ej\n",
    "ConvertirEspaciado(\"Hola, tú\")"
   ]
  },
  {
   "cell_type": "code",
   "execution_count": 11,
   "id": "5368a715",
   "metadata": {},
   "outputs": [
    {
     "data": {
      "text/plain": [
       "'E s t e e s e l e j e m p l o p a r a u n t e x t o c o n u n e s p a c i o a d i c i o n a l t r a s c a d a l e t r a '"
      ]
     },
     "execution_count": 11,
     "metadata": {},
     "output_type": "execute_result"
    }
   ],
   "source": [
    "ConvertirEspaciado(\"Este es el ejemplo para un texto con un espacio adicional tras cada letra\")"
   ]
  },
  {
   "cell_type": "markdown",
   "id": "a0548fde",
   "metadata": {},
   "source": [
    "6. Crea una función “calcularMaxMin” que recibe una arreglo con valores numérico y devuelve el valor máximo y el mínimo. "
   ]
  },
  {
   "cell_type": "code",
   "execution_count": 12,
   "id": "20d956ae",
   "metadata": {},
   "outputs": [],
   "source": [
    "def calcularMaxMin(numeros):\n",
    "    return max(numeros), min(numeros)"
   ]
  },
  {
   "cell_type": "code",
   "execution_count": 13,
   "id": "2d4a96d0",
   "metadata": {},
   "outputs": [
    {
     "name": "stdout",
     "output_type": "stream",
     "text": [
      "El valor máximo y mínimo del arreglo, son respectivamente: (24, 14)\n"
     ]
    }
   ],
   "source": [
    "arreglo = [15,17,14,19,20,21,21,22,21,23,24,24,\n",
    "           18,19,17,15,16,14,15,16,17,17,16,16]\n",
    "\n",
    "print(\"El valor máximo y mínimo del arreglo, son respectivamente:\", calcularMaxMin(arreglo))"
   ]
  },
  {
   "cell_type": "markdown",
   "id": "49aa5dbb",
   "metadata": {},
   "source": [
    "7.  Diseñar una función que calcule el área y el perímetro de una circunferencia. "
   ]
  },
  {
   "cell_type": "code",
   "execution_count": 14,
   "id": "ef4a61ae",
   "metadata": {},
   "outputs": [],
   "source": [
    "import math\n",
    "\n",
    "def f_area_perimetro(radio):\n",
    "    area = math.pi * (radio ** 2)\n",
    "    perimetro = 2 * math.pi * radio\n",
    "    return area, perimetro"
   ]
  },
  {
   "cell_type": "code",
   "execution_count": 15,
   "id": "2a9361d9",
   "metadata": {},
   "outputs": [
    {
     "name": "stdout",
     "output_type": "stream",
     "text": [
      "El área y el perímetro de un círculo de radio 3 es (28.274333882308138, 18.84955592153876) respectivamente.\n"
     ]
    }
   ],
   "source": [
    "radio=3\n",
    "print(\"El área y el perímetro de un círculo de radio\", radio, \"es\", f_area_perimetro(radio), \"respectivamente.\")"
   ]
  },
  {
   "cell_type": "markdown",
   "id": "5acaadcb",
   "metadata": {},
   "source": [
    "8. Crear una función  llamada “Login”, que recibe un nombre de usuario y una contraseña y devuelva Verdadero si el nombre de usuario es “usuario1” y la contraseña es “asdasd”. Además recibe el número de intentos que se ha intentado hacer login y si no se ha podido hacer login incremente este valor."
   ]
  },
  {
   "cell_type": "code",
   "execution_count": 16,
   "id": "6ace9486",
   "metadata": {},
   "outputs": [],
   "source": [
    "def login_decorator(func):\n",
    "    num_attempts = 0\n",
    "    def wrapper(username, password):\n",
    "        nonlocal num_attempts\n",
    "        if username == \"usuario1\" and password == \"asdasd\":\n",
    "            print(\"Inicio de sesión exitoso! Número de intentos: \", num_attempts)\n",
    "        else:\n",
    "            num_attempts += 1\n",
    "            print(\"Nombre de usuario o contraseña incorrectos. Número de intentos: \", num_attempts)\n",
    "    return wrapper"
   ]
  },
  {
   "cell_type": "code",
   "execution_count": 17,
   "id": "68f55eb5",
   "metadata": {},
   "outputs": [],
   "source": [
    "@login_decorator\n",
    "def Login(username, password):\n",
    "    pass"
   ]
  },
  {
   "cell_type": "code",
   "execution_count": 18,
   "id": "f922247f",
   "metadata": {},
   "outputs": [
    {
     "name": "stdout",
     "output_type": "stream",
     "text": [
      "Nombre de usuario o contraseña incorrectos. Número de intentos:  1\n"
     ]
    }
   ],
   "source": [
    "#intento1\n",
    "Login(\"usuario1\", \"asdas\")"
   ]
  },
  {
   "cell_type": "code",
   "execution_count": 19,
   "id": "b91e324b",
   "metadata": {},
   "outputs": [
    {
     "name": "stdout",
     "output_type": "stream",
     "text": [
      "Nombre de usuario o contraseña incorrectos. Número de intentos:  2\n"
     ]
    }
   ],
   "source": [
    "#intento2\n",
    "Login(\"usuario\", \"asdasd\")"
   ]
  },
  {
   "cell_type": "code",
   "execution_count": 20,
   "id": "aa326550",
   "metadata": {},
   "outputs": [
    {
     "name": "stdout",
     "output_type": "stream",
     "text": [
      "Inicio de sesión exitoso! Número de intentos:  2\n"
     ]
    }
   ],
   "source": [
    "#ingreso\n",
    "Login(\"usuario1\", \"asdasd\")"
   ]
  },
  {
   "cell_type": "markdown",
   "id": "2bf3387a",
   "metadata": {},
   "source": [
    "9. Crear una función recursiva que permita calcular el factorial de un número. Realiza un programa principal donde se lea un entero y se muestre el resultado del factorial. Revise la lección de funciones."
   ]
  },
  {
   "cell_type": "code",
   "execution_count": 21,
   "id": "6c5d4b9c",
   "metadata": {},
   "outputs": [],
   "source": [
    "def factorial(entero):\n",
    "    if entero == 0:\n",
    "        return 1\n",
    "    else:\n",
    "        return entero * factorial(entero-1)"
   ]
  },
  {
   "cell_type": "code",
   "execution_count": 22,
   "id": "a51728bb",
   "metadata": {},
   "outputs": [
    {
     "name": "stdout",
     "output_type": "stream",
     "text": [
      "El factorial de 3 es 6\n"
     ]
    }
   ],
   "source": [
    "entero = 3\n",
    "print(\"El factorial de\", entero, \"es\", factorial(entero))"
   ]
  },
  {
   "cell_type": "markdown",
   "id": "8e64f3ac",
   "metadata": {},
   "source": [
    "10. Escribir dos funciones que permitan calcular:\n",
    "La cantidad de segundos en un tiempo dado en horas, minutos y segundos.\n",
    "La cantidad de horas, minutos y segundos de un tiempo dado en segundos"
   ]
  },
  {
   "cell_type": "code",
   "execution_count": 23,
   "id": "0441e564",
   "metadata": {},
   "outputs": [],
   "source": [
    "def a_segundos(horas, minutos, segundos):\n",
    "    return horas * 3600 + minutos * 60 + segundos\n",
    "\n",
    "def de_segundos(t_segundos):\n",
    "    horas = t_segundos // 3600\n",
    "    minutos = (t_segundos % 3600) // 60\n",
    "    segundos = t_segundos % 60\n",
    "    return horas, minutos, segundos"
   ]
  },
  {
   "cell_type": "code",
   "execution_count": 24,
   "id": "7aa7aaf1",
   "metadata": {},
   "outputs": [
    {
     "name": "stdout",
     "output_type": "stream",
     "text": [
      "Tiempo en segundos: 12813\n",
      "Tiempo en horas, minutos y segundos: (3, 33, 33)\n"
     ]
    }
   ],
   "source": [
    "print(\"Tiempo en segundos:\", a_segundos(3, 33, 33))\n",
    "print(\"Tiempo en horas, minutos y segundos:\", de_segundos(12813))"
   ]
  },
  {
   "cell_type": "markdown",
   "id": "55c37b19",
   "metadata": {},
   "source": [
    "11. Crea una función  que lea una tupla, invierta los valores de la tupla y regrese una nueva tupla invirtiendo los valores. Recuerde que las tuplas son inmutables."
   ]
  },
  {
   "cell_type": "code",
   "execution_count": 25,
   "id": "01b885d3",
   "metadata": {},
   "outputs": [],
   "source": [
    "def reverse_tuple(t):\n",
    "    return t[::-1]"
   ]
  },
  {
   "cell_type": "code",
   "execution_count": 26,
   "id": "c83fd827",
   "metadata": {},
   "outputs": [
    {
     "name": "stdout",
     "output_type": "stream",
     "text": [
      "Tupla invertida: (24, 24, 23, 21, 22, 21, 21, 20, 19, 14, 17, 15)\n"
     ]
    }
   ],
   "source": [
    "t = (15,17,14,19,20,21,21,22,21,23,24,24)\n",
    "print(\"Tupla invertida:\", reverse_tuple(t))"
   ]
  },
  {
   "cell_type": "markdown",
   "id": "ae9415b5",
   "metadata": {},
   "source": [
    "12. Escriba una función que lea una lista y calcule la media geométrica de sus valores, usando funtools.reduce."
   ]
  },
  {
   "cell_type": "code",
   "execution_count": 27,
   "id": "83e0976e",
   "metadata": {},
   "outputs": [],
   "source": [
    "import functools\n",
    "import math\n",
    "\n",
    "def media_geometrica(lista):\n",
    "    product = functools.reduce(lambda x, y: x * y, lista)\n",
    "    return math.pow(product, 1/len(lista))"
   ]
  },
  {
   "cell_type": "code",
   "execution_count": 28,
   "id": "b73c980f",
   "metadata": {},
   "outputs": [
    {
     "name": "stdout",
     "output_type": "stream",
     "text": [
      "Media geométrica: 16.280970131199926\n"
     ]
    }
   ],
   "source": [
    "lista = [18,19,17,15,16,14,15,16,17,17,16,16]\n",
    "print(\"Media geométrica:\", media_geometrica(lista))"
   ]
  }
 ],
 "metadata": {
  "kernelspec": {
   "display_name": "Python 3",
   "language": "python",
   "name": "python3"
  },
  "language_info": {
   "codemirror_mode": {
    "name": "ipython",
    "version": 3
   },
   "file_extension": ".py",
   "mimetype": "text/x-python",
   "name": "python",
   "nbconvert_exporter": "python",
   "pygments_lexer": "ipython3",
   "version": "3.8.8"
  }
 },
 "nbformat": 4,
 "nbformat_minor": 5
}
